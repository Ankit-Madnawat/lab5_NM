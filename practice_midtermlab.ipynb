{
 "cells": [
  {
   "cell_type": "code",
   "execution_count": 15,
   "metadata": {},
   "outputs": [
    {
     "name": "stdout",
     "output_type": "stream",
     "text": [
      "<midtermlab.pcap: TCP:0 UDP:0 ICMP:0 Other:25>\n",
      "25\n",
      "ca:04:31:cf:00:1c\n",
      "2001:4444:4444:4444:c803:31ff:fec0:0\n",
      "['2001', '4444', '4444', '4444', 'c803', '31ff', 'fec0', '0']\n",
      "ca:03:31:c0:00:00\n"
     ]
    }
   ],
   "source": [
    "from scapy.all import *\n",
    "\n",
    "f = rdpcap(\"midtermlab.pcap\")\n",
    "\n",
    "print(f)\n",
    "print(len(f))\n",
    "pkt_R3 = f[1]\n",
    "#print(ls(pkt))\n",
    "#print(pkt.summary())\n",
    "#print(pkt.show())\n",
    "mac_R3 = pkt_R3[Ether]\n",
    "print(mac_R3.src)\n",
    "ip_R3 = pkt_R3[IPv6]\n",
    "print(ip_R3.src)\n",
    "#for pkt in f:\n",
    "#    print(pkt.show())\n",
    "#for frame in f:\n",
    " #   pt = frame[Ether]\n",
    "  #  src = packet.src\n",
    "   # dst = packet.dst\n",
    "ipv6_R3 = ip_R3.src\n",
    "ipv6Parts_R3 = ipv6_R3.split(\":\")\n",
    "print(ipv6Parts_R3)\n",
    "macParts_R3 = []\n",
    "for part_R3 in ipv6Parts_R3[-4:]:\n",
    "    while len(part_R3) < 4:\n",
    "        part_R3 = \"0\" + part_R3\n",
    "    macParts_R3.append(part_R3[:2])\n",
    "    macParts_R3.append(part_R3[-2:])\n",
    "macParts_R3[0] = \"%02x\" % (int(macParts_R3[0], 16) ^ 2)\n",
    "del macParts_R3[4]\n",
    "del macParts_R3[3]\n",
    "\n",
    "print(\":\".join(macParts_R3))\n",
    "#print(macParts)"
   ]
  },
  {
   "cell_type": "code",
   "execution_count": 14,
   "metadata": {},
   "outputs": [
    {
     "name": "stdout",
     "output_type": "stream",
     "text": [
      "<midtermlab.pcap: TCP:0 UDP:0 ICMP:0 Other:25>\n",
      "25\n",
      "ca:04:31:cf:00:1c\n",
      "2001:4444:4444:4444:c802:31ff:feb1:0\n",
      "['2001', '4444', '4444', '4444', 'c802', '31ff', 'feb1', '0']\n",
      "ca:02:31:b1:00:00\n"
     ]
    }
   ],
   "source": [
    "from scapy.all import *\n",
    "\n",
    "f = rdpcap(\"midtermlab.pcap\")\n",
    "\n",
    "print(f)\n",
    "print(len(f))\n",
    "pkt_R2 = f[11]\n",
    "#print(ls(pkt))\n",
    "#print(pkt.summary())\n",
    "#print(pkt.show())\n",
    "mac_R2 = pkt_R2[Ether]\n",
    "print(mac_R2.src)\n",
    "ip_R2 = pkt_R2[IPv6]\n",
    "print(ip_R2.src)\n",
    "#for pkt in f:\n",
    "#    print(pkt.show())\n",
    "#for frame in f:\n",
    " #   pt = frame[Ether]\n",
    "  #  src = packet.src\n",
    "   # dst = packet.dst\n",
    "ipv6_R2 = ip_R2.src\n",
    "ipv6Parts_R2 = ipv6_R2.split(\":\")\n",
    "print(ipv6Parts_R2)\n",
    "macParts_R2 = []\n",
    "for part_R2 in ipv6Parts_R2[-4:]:\n",
    "    while len(part_R2) < 4:\n",
    "        part_R2 = \"0\" + part_R2\n",
    "    macParts_R2.append(part_R2[:2])\n",
    "    macParts_R2.append(part_R2[-2:])\n",
    "macParts_R2[0] = \"%02x\" % (int(macParts_R2[0], 16) ^ 2)\n",
    "del macParts_R2[4]\n",
    "del macParts_R2[3]\n",
    "\n",
    "print(\":\".join(macParts_R2))\n",
    "#print(macParts)"
   ]
  },
  {
   "cell_type": "code",
   "execution_count": 7,
   "metadata": {},
   "outputs": [
    {
     "name": "stdout",
     "output_type": "stream",
     "text": [
      "['c8', '05', '31', 'ff', 'fe', 'fc', '00', '00']\n",
      "['c805', '31ff', 'fefc', '0000']\n",
      "c805:31ff:fefc:0000\n"
     ]
    }
   ],
   "source": [
    "c = 'ca05.31fc.0000'\n",
    "d = c.split(\".\")\n",
    "e = []\n",
    "for x in d:\n",
    "    e.append(x[:2])\n",
    "    e.append(x[-2:])\n",
    "e.insert(3, \"ff\")\n",
    "e.insert(4, \"fe\")\n",
    "e[0] = \"%x\" % (int(e[0], 16) ^ 2)\n",
    "print(e)\n",
    "l = []\n",
    "f=e[0]+e[1]\n",
    "g=e[2]+e[3]\n",
    "h=e[4]+e[5]\n",
    "i=e[6]+e[7]\n",
    "l.append(f)\n",
    "l.append(g)\n",
    "l.append(h)\n",
    "l.append(i)\n",
    "end = \":\".join(l)\n",
    "print(l)\n",
    "print(end)"
   ]
  },
  {
   "cell_type": "code",
   "execution_count": 1,
   "metadata": {},
   "outputs": [
    {
     "name": "stdout",
     "output_type": "stream",
     "text": [
      "Defaulting to user installation because normal site-packages is not writeable\n",
      "Collecting easysnmp\n",
      "  Using cached easysnmp-0.2.5.tar.gz (67 kB)\n",
      "Building wheels for collected packages: easysnmp\n",
      "  Building wheel for easysnmp (setup.py) ... \u001b[?25ldone\n",
      "\u001b[?25h  Created wheel for easysnmp: filename=easysnmp-0.2.5-cp36-cp36m-linux_x86_64.whl size=90231 sha256=4273e19d8758d1638bbbd3f84d58d5f6d0757a53be69a9eaeb8b7a2658bb35e4\n",
      "  Stored in directory: /home/netman/.cache/pip/wheels/c3/c9/a6/b760203afe041afbe929707e3cd6fd2152e97ea41e9e7c3125\n",
      "Successfully built easysnmp\n",
      "Installing collected packages: easysnmp\n",
      "Successfully installed easysnmp-0.2.5\n",
      "\u001b[33mWARNING: You are using pip version 20.3.1; however, version 21.2.4 is available.\n",
      "You should consider upgrading via the '/usr/bin/python3 -m pip install --upgrade pip' command.\u001b[0m\n",
      "Note: you may need to restart the kernel to use updated packages.\n"
     ]
    }
   ],
   "source": [
    "pip install easysnmp"
   ]
  },
  {
   "cell_type": "code",
   "execution_count": 21,
   "metadata": {},
   "outputs": [
    {
     "name": "stdout",
     "output_type": "stream",
     "text": [
      "Fa0/0\n",
      "<SNMPVariable value='R4.netman' (oid='sysName', oid_index='0', snmp_type='OCTETSTR')>\n",
      "<SNMPVariable value='1' (oid='ifAdminStatus', oid_index='1', snmp_type='INTEGER')>\n",
      "198.51.100.1\n",
      "198.51.101.4\n",
      "[]\n"
     ]
    }
   ],
   "source": [
    "from easysnmp import Session\n",
    "\n",
    "# Create an SNMP session to be used for all our requests\n",
    "session = Session(hostname='198.51.100.1', community='public', version=2)\n",
    "\n",
    "# You may retrieve an individual OID using an SNMP GET\n",
    "Interface = session.get('ifName.1')\n",
    "Hostname = session.get('sysName.0')\n",
    "Status = session.get('ifAdminStatus.1')\n",
    "Ipaddtable = session.walk('ipAdEntAddr')\n",
    "ipv6 = session.walk('ipAddressPrefix.ipv6')\n",
    "print(Interface.value)\n",
    "print(Hostname)\n",
    "print(Status)\n",
    "print(Ipaddtable[0].value)\n",
    "print(Ipaddtable[1].value)\n",
    "print(ipv6)"
   ]
  },
  {
   "cell_type": "code",
   "execution_count": 23,
   "metadata": {},
   "outputs": [
    {
     "name": "stdout",
     "output_type": "stream",
     "text": [
      "[<SNMPVariable value='2' (oid='ipAddressIfIndex', oid_index='1.4.198.51.100.1', snmp_type='INTEGER')>, <SNMPVariable value='1' (oid='ipAddressIfIndex', oid_index='1.4.198.51.101.4', snmp_type='INTEGER')>, <SNMPVariable value='2' (oid='ipAddressIfIndex', oid_index='2.16.32.1.51.51.51.51.51.51.0.0.0.0.0.0.0.1', snmp_type='INTEGER')>, <SNMPVariable value='1' (oid='ipAddressIfIndex', oid_index='2.16.32.1.68.68.68.68.68.68.200.4.49.255.254.207.0.0', snmp_type='INTEGER')>, <SNMPVariable value='1' (oid='ipAddressIfIndex', oid_index='4.20.254.128.0.0.0.0.0.0.200.4.49.255.254.207.0.0.18.0.0.2', snmp_type='INTEGER')>, <SNMPVariable value='2' (oid='ipAddressIfIndex', oid_index='4.20.254.128.0.0.0.0.0.0.200.4.49.255.254.207.0.28.18.0.0.3', snmp_type='INTEGER')>, <SNMPVariable value='1' (oid='ipAddressType', oid_index='1.4.198.51.100.1', snmp_type='INTEGER')>, <SNMPVariable value='1' (oid='ipAddressType', oid_index='1.4.198.51.101.4', snmp_type='INTEGER')>, <SNMPVariable value='1' (oid='ipAddressType', oid_index='2.16.32.1.51.51.51.51.51.51.0.0.0.0.0.0.0.1', snmp_type='INTEGER')>, <SNMPVariable value='1' (oid='ipAddressType', oid_index='2.16.32.1.68.68.68.68.68.68.200.4.49.255.254.207.0.0', snmp_type='INTEGER')>, <SNMPVariable value='1' (oid='ipAddressType', oid_index='4.20.254.128.0.0.0.0.0.0.200.4.49.255.254.207.0.0.18.0.0.2', snmp_type='INTEGER')>, <SNMPVariable value='1' (oid='ipAddressType', oid_index='4.20.254.128.0.0.0.0.0.0.200.4.49.255.254.207.0.28.18.0.0.3', snmp_type='INTEGER')>, <SNMPVariable value='.1.3.6.1.2.1.4.32.1.5.2.1.4.198.51.100.0.24' (oid='ipAddressPrefix', oid_index='1.4.198.51.100.1', snmp_type='OBJECTID')>, <SNMPVariable value='.1.3.6.1.2.1.4.32.1.5.1.1.4.198.51.101.0.24' (oid='ipAddressPrefix', oid_index='1.4.198.51.101.4', snmp_type='OBJECTID')>, <SNMPVariable value='.1.3.6.1.2.1.4.32.1.5.2.2.16.32.1.51.51.51.51.51.51.0.0.0.0.0.0.0.0.64' (oid='ipAddressPrefix', oid_index='2.16.32.1.51.51.51.51.51.51.0.0.0.0.0.0.0.1', snmp_type='OBJECTID')>, <SNMPVariable value='.1.3.6.1.2.1.4.32.1.5.1.2.16.32.1.68.68.68.68.68.68.0.0.0.0.0.0.0.0.64' (oid='ipAddressPrefix', oid_index='2.16.32.1.68.68.68.68.68.68.200.4.49.255.254.207.0.0', snmp_type='OBJECTID')>, <SNMPVariable value='.0.0' (oid='ipAddressPrefix', oid_index='4.20.254.128.0.0.0.0.0.0.200.4.49.255.254.207.0.0.18.0.0.2', snmp_type='OBJECTID')>, <SNMPVariable value='.0.0' (oid='ipAddressPrefix', oid_index='4.20.254.128.0.0.0.0.0.0.200.4.49.255.254.207.0.28.18.0.0.3', snmp_type='OBJECTID')>, <SNMPVariable value='2' (oid='ipAddressOrigin', oid_index='1.4.198.51.100.1', snmp_type='INTEGER')>, <SNMPVariable value='4' (oid='ipAddressOrigin', oid_index='1.4.198.51.101.4', snmp_type='INTEGER')>, <SNMPVariable value='2' (oid='ipAddressOrigin', oid_index='2.16.32.1.51.51.51.51.51.51.0.0.0.0.0.0.0.1', snmp_type='INTEGER')>, <SNMPVariable value='5' (oid='ipAddressOrigin', oid_index='2.16.32.1.68.68.68.68.68.68.200.4.49.255.254.207.0.0', snmp_type='INTEGER')>, <SNMPVariable value='5' (oid='ipAddressOrigin', oid_index='4.20.254.128.0.0.0.0.0.0.200.4.49.255.254.207.0.0.18.0.0.2', snmp_type='INTEGER')>, <SNMPVariable value='5' (oid='ipAddressOrigin', oid_index='4.20.254.128.0.0.0.0.0.0.200.4.49.255.254.207.0.28.18.0.0.3', snmp_type='INTEGER')>, <SNMPVariable value='1' (oid='ipAddressStatus', oid_index='1.4.198.51.100.1', snmp_type='INTEGER')>, <SNMPVariable value='1' (oid='ipAddressStatus', oid_index='1.4.198.51.101.4', snmp_type='INTEGER')>, <SNMPVariable value='1' (oid='ipAddressStatus', oid_index='2.16.32.1.51.51.51.51.51.51.0.0.0.0.0.0.0.1', snmp_type='INTEGER')>, <SNMPVariable value='1' (oid='ipAddressStatus', oid_index='2.16.32.1.68.68.68.68.68.68.200.4.49.255.254.207.0.0', snmp_type='INTEGER')>, <SNMPVariable value='1' (oid='ipAddressStatus', oid_index='4.20.254.128.0.0.0.0.0.0.200.4.49.255.254.207.0.0.18.0.0.2', snmp_type='INTEGER')>, <SNMPVariable value='1' (oid='ipAddressStatus', oid_index='4.20.254.128.0.0.0.0.0.0.200.4.49.255.254.207.0.28.18.0.0.3', snmp_type='INTEGER')>, <SNMPVariable value='5752' (oid='ipAddressCreated', oid_index='1.4.198.51.100.1', snmp_type='TICKS')>, <SNMPVariable value='7932' (oid='ipAddressCreated', oid_index='1.4.198.51.101.4', snmp_type='TICKS')>, <SNMPVariable value='5799' (oid='ipAddressCreated', oid_index='2.16.32.1.51.51.51.51.51.51.0.0.0.0.0.0.0.1', snmp_type='TICKS')>, <SNMPVariable value='5712' (oid='ipAddressCreated', oid_index='2.16.32.1.68.68.68.68.68.68.200.4.49.255.254.207.0.0', snmp_type='TICKS')>, <SNMPVariable value='5712' (oid='ipAddressCreated', oid_index='4.20.254.128.0.0.0.0.0.0.200.4.49.255.254.207.0.0.18.0.0.2', snmp_type='TICKS')>, <SNMPVariable value='5799' (oid='ipAddressCreated', oid_index='4.20.254.128.0.0.0.0.0.0.200.4.49.255.254.207.0.28.18.0.0.3', snmp_type='TICKS')>, <SNMPVariable value='5752' (oid='ipAddressLastChanged', oid_index='1.4.198.51.100.1', snmp_type='TICKS')>, <SNMPVariable value='7932' (oid='ipAddressLastChanged', oid_index='1.4.198.51.101.4', snmp_type='TICKS')>, <SNMPVariable value='6388' (oid='ipAddressLastChanged', oid_index='2.16.32.1.51.51.51.51.51.51.0.0.0.0.0.0.0.1', snmp_type='TICKS')>, <SNMPVariable value='6388' (oid='ipAddressLastChanged', oid_index='2.16.32.1.68.68.68.68.68.68.200.4.49.255.254.207.0.0', snmp_type='TICKS')>, <SNMPVariable value='5990' (oid='ipAddressLastChanged', oid_index='4.20.254.128.0.0.0.0.0.0.200.4.49.255.254.207.0.0.18.0.0.2', snmp_type='TICKS')>, <SNMPVariable value='5993' (oid='ipAddressLastChanged', oid_index='4.20.254.128.0.0.0.0.0.0.200.4.49.255.254.207.0.28.18.0.0.3', snmp_type='TICKS')>, <SNMPVariable value='1' (oid='ipAddressRowStatus', oid_index='1.4.198.51.100.1', snmp_type='INTEGER')>, <SNMPVariable value='1' (oid='ipAddressRowStatus', oid_index='1.4.198.51.101.4', snmp_type='INTEGER')>, <SNMPVariable value='1' (oid='ipAddressRowStatus', oid_index='2.16.32.1.51.51.51.51.51.51.0.0.0.0.0.0.0.1', snmp_type='INTEGER')>, <SNMPVariable value='1' (oid='ipAddressRowStatus', oid_index='2.16.32.1.68.68.68.68.68.68.200.4.49.255.254.207.0.0', snmp_type='INTEGER')>, <SNMPVariable value='1' (oid='ipAddressRowStatus', oid_index='4.20.254.128.0.0.0.0.0.0.200.4.49.255.254.207.0.0.18.0.0.2', snmp_type='INTEGER')>, <SNMPVariable value='1' (oid='ipAddressRowStatus', oid_index='4.20.254.128.0.0.0.0.0.0.200.4.49.255.254.207.0.28.18.0.0.3', snmp_type='INTEGER')>, <SNMPVariable value='3' (oid='ipAddressStorageType', oid_index='1.4.198.51.100.1', snmp_type='INTEGER')>, <SNMPVariable value='3' (oid='ipAddressStorageType', oid_index='1.4.198.51.101.4', snmp_type='INTEGER')>, <SNMPVariable value='1' (oid='ipAddressStorageType', oid_index='2.16.32.1.51.51.51.51.51.51.0.0.0.0.0.0.0.1', snmp_type='INTEGER')>, <SNMPVariable value='1' (oid='ipAddressStorageType', oid_index='2.16.32.1.68.68.68.68.68.68.200.4.49.255.254.207.0.0', snmp_type='INTEGER')>, <SNMPVariable value='1' (oid='ipAddressStorageType', oid_index='4.20.254.128.0.0.0.0.0.0.200.4.49.255.254.207.0.0.18.0.0.2', snmp_type='INTEGER')>, <SNMPVariable value='1' (oid='ipAddressStorageType', oid_index='4.20.254.128.0.0.0.0.0.0.200.4.49.255.254.207.0.28.18.0.0.3', snmp_type='INTEGER')>]\n"
     ]
    }
   ],
   "source": [
    "from easysnmp import Session\n",
    "\n",
    "\n",
    "session = Session(hostname='198.51.100.1', community='public', version=2)\n",
    "\n",
    "\n",
    "ipv6 = session.walk('ipAddressTable')\n",
    "\n",
    "print(ipv6)"
   ]
  },
  {
   "cell_type": "code",
   "execution_count": 24,
   "metadata": {},
   "outputs": [
    {
     "name": "stdout",
     "output_type": "stream",
     "text": [
      "[<SNMPVariable value='.1.3.6.1.2.1.4.32.1.5.2.1.4.198.51.100.0.24' (oid='ipAddressPrefix', oid_index='1.4.198.51.100.1', snmp_type='OBJECTID')>, <SNMPVariable value='.1.3.6.1.2.1.4.32.1.5.1.1.4.198.51.101.0.24' (oid='ipAddressPrefix', oid_index='1.4.198.51.101.4', snmp_type='OBJECTID')>, <SNMPVariable value='.1.3.6.1.2.1.4.32.1.5.2.2.16.32.1.51.51.51.51.51.51.0.0.0.0.0.0.0.0.64' (oid='ipAddressPrefix', oid_index='2.16.32.1.51.51.51.51.51.51.0.0.0.0.0.0.0.1', snmp_type='OBJECTID')>, <SNMPVariable value='.1.3.6.1.2.1.4.32.1.5.1.2.16.32.1.68.68.68.68.68.68.0.0.0.0.0.0.0.0.64' (oid='ipAddressPrefix', oid_index='2.16.32.1.68.68.68.68.68.68.200.4.49.255.254.207.0.0', snmp_type='OBJECTID')>, <SNMPVariable value='.0.0' (oid='ipAddressPrefix', oid_index='4.20.254.128.0.0.0.0.0.0.200.4.49.255.254.207.0.0.18.0.0.2', snmp_type='OBJECTID')>, <SNMPVariable value='.0.0' (oid='ipAddressPrefix', oid_index='4.20.254.128.0.0.0.0.0.0.200.4.49.255.254.207.0.28.18.0.0.3', snmp_type='OBJECTID')>]\n"
     ]
    }
   ],
   "source": [
    "from easysnmp import Session\n",
    "\n",
    "\n",
    "session = Session(hostname='198.51.100.1', community='public', version=2)\n",
    "\n",
    "\n",
    "ipv6 = session.walk('ipAddressPrefix')\n",
    "\n",
    "print(ipv6)"
   ]
  },
  {
   "cell_type": "code",
   "execution_count": 29,
   "metadata": {},
   "outputs": [
    {
     "name": "stdout",
     "output_type": "stream",
     "text": [
      ".1.3.6.1.2.1.4.32.1.5.2.1.4.198.51.100.0.24\n",
      "198.51.100.0/24\n"
     ]
    }
   ],
   "source": [
    "from easysnmp import Session\n",
    "\n",
    "\n",
    "session = Session(hostname='198.51.100.1', community='public', version=2)\n",
    "\n",
    "\n",
    "ipv6 = session.walk('ipAddressPrefix')\n",
    "\n",
    "print(ipv6[0].value)\n",
    "ip=ipv6[0].value.split(\".\")\n",
    "ip4 = ip[-5:-1]\n",
    "add = \".\".join(ip4)\n",
    "print(f\"{add}/{ip[-1]}\")\n"
   ]
  },
  {
   "cell_type": "code",
   "execution_count": 12,
   "metadata": {},
   "outputs": [
    {
     "name": "stdout",
     "output_type": "stream",
     "text": [
      "Fa0/0\n",
      "2\n",
      "Fa1/0\n",
      "Fa0/0\n"
     ]
    }
   ],
   "source": [
    "from easysnmp import Session\n",
    "\n",
    "\n",
    "session_R4 = Session(hostname='198.51.100.1', community='public', version=2)\n",
    "\n",
    "\n",
    "int_index_R4 = session_R4.walk('ipAdEntIfIndex')\n",
    "int_name_R4 = session_R4.walk('ifName')\n",
    "\n",
    "print(int_name_R4[0].value)\n",
    "print(int_index_R4[0].value)\n",
    "\n",
    "int_name1 = []\n",
    "if int_index_R4[0].value == \"1\":\n",
    "    int_name1.append(int_name_R4[0].value)\n",
    "elif int_index_R4[0].value == \"2\":\n",
    "    int_name1.append(int_name_R4[1].value)\n",
    "    \n",
    "int_name2 = []\n",
    "if int_index_R4[1].value == \"1\":\n",
    "    int_name2.append(int_name_R4[0].value)\n",
    "elif int_index_R4[1].value == \"2\":\n",
    "    int_name2.append(int_name_R4[1].value)\n",
    "    \n",
    "print(int_name1[0])\n",
    "print(int_name2[0])\n"
   ]
  },
  {
   "cell_type": "code",
   "execution_count": 13,
   "metadata": {},
   "outputs": [
    {
     "name": "stdout",
     "output_type": "stream",
     "text": [
      "[<SNMPVariable value='1' (oid='ifAdminStatus', oid_index='1', snmp_type='INTEGER')>, <SNMPVariable value='1' (oid='ifAdminStatus', oid_index='2', snmp_type='INTEGER')>, <SNMPVariable value='2' (oid='ifAdminStatus', oid_index='3', snmp_type='INTEGER')>, <SNMPVariable value='2' (oid='ifAdminStatus', oid_index='4', snmp_type='INTEGER')>, <SNMPVariable value='2' (oid='ifAdminStatus', oid_index='5', snmp_type='INTEGER')>, <SNMPVariable value='2' (oid='ifAdminStatus', oid_index='6', snmp_type='INTEGER')>, <SNMPVariable value='1' (oid='ifAdminStatus', oid_index='7', snmp_type='INTEGER')>]\n"
     ]
    }
   ],
   "source": [
    "from easysnmp import Session\n",
    "\n",
    "\n",
    "session_R4 = Session(hostname='198.51.100.1', community='public', version=2)\n",
    "\n",
    "\n",
    "int_status_R4 = session_R4.walk('ifAdminStatus')\n",
    "print(int_status_R4)"
   ]
  },
  {
   "cell_type": "code",
   "execution_count": 1,
   "metadata": {},
   "outputs": [
    {
     "name": "stdout",
     "output_type": "stream",
     "text": [
      "Install necessary modules.\n"
     ]
    },
    {
     "ename": "NameError",
     "evalue": "name 'Repo' is not defined",
     "output_type": "error",
     "traceback": [
      "\u001b[0;31m---------------------------------------------------------------------------\u001b[0m",
      "\u001b[0;31mNameError\u001b[0m                                 Traceback (most recent call last)",
      "\u001b[0;32m<ipython-input-1-33674671f706>\u001b[0m in \u001b[0;36m<module>\u001b[0;34m\u001b[0m\n\u001b[1;32m      9\u001b[0m \u001b[0;34m\u001b[0m\u001b[0m\n\u001b[1;32m     10\u001b[0m \u001b[0;32mif\u001b[0m \u001b[0m__name__\u001b[0m \u001b[0;34m==\u001b[0m \u001b[0;34m\"__main__\"\u001b[0m\u001b[0;34m:\u001b[0m\u001b[0;34m\u001b[0m\u001b[0;34m\u001b[0m\u001b[0m\n\u001b[0;32m---> 11\u001b[0;31m     \u001b[0mmain\u001b[0m\u001b[0;34m(\u001b[0m\u001b[0;34m)\u001b[0m\u001b[0;34m\u001b[0m\u001b[0;34m\u001b[0m\u001b[0m\n\u001b[0m",
      "\u001b[0;32m<ipython-input-1-33674671f706>\u001b[0m in \u001b[0;36mmain\u001b[0;34m()\u001b[0m\n\u001b[1;32m      5\u001b[0m \u001b[0;34m\u001b[0m\u001b[0m\n\u001b[1;32m      6\u001b[0m \u001b[0;32mdef\u001b[0m \u001b[0mmain\u001b[0m\u001b[0;34m(\u001b[0m\u001b[0;34m)\u001b[0m\u001b[0;34m:\u001b[0m\u001b[0;34m\u001b[0m\u001b[0;34m\u001b[0m\u001b[0m\n\u001b[0;32m----> 7\u001b[0;31m     \u001b[0mnew_repo\u001b[0m \u001b[0;34m=\u001b[0m \u001b[0mRepo\u001b[0m\u001b[0;34m.\u001b[0m\u001b[0minit\u001b[0m\u001b[0;34m(\u001b[0m\u001b[0;34m'test_midterm_Obj4'\u001b[0m\u001b[0;34m)\u001b[0m\u001b[0;34m\u001b[0m\u001b[0;34m\u001b[0m\u001b[0m\n\u001b[0m\u001b[1;32m      8\u001b[0m     \u001b[0mRepo\u001b[0m\u001b[0;34m.\u001b[0m\u001b[0mclone_from\u001b[0m\u001b[0;34m(\u001b[0m\u001b[0;34m'https://github.com/Ankit-Madnawat?tab=repositories'\u001b[0m\u001b[0;34m,\u001b[0m \u001b[0;34m'/home/netman'\u001b[0m\u001b[0;34m)\u001b[0m\u001b[0;34m\u001b[0m\u001b[0;34m\u001b[0m\u001b[0m\n\u001b[1;32m      9\u001b[0m \u001b[0;34m\u001b[0m\u001b[0m\n",
      "\u001b[0;31mNameError\u001b[0m: name 'Repo' is not defined"
     ]
    }
   ],
   "source": [
    "try:\n",
    "    from git import Repo\n",
    "except:\n",
    "    print(\"Install necessary modules.\")\n",
    "\n",
    "def main():\n",
    "    new_repo = Repo.init('test_midterm_Obj4')\n",
    "    Repo.clone_from('https://github.com/Ankit-Madnawat?tab=repositories', '/home/netman')\n",
    "\n",
    "if __name__ == \"__main__\":\n",
    "    main()"
   ]
  },
  {
   "cell_type": "code",
   "execution_count": 3,
   "metadata": {},
   "outputs": [
    {
     "name": "stdout",
     "output_type": "stream",
     "text": [
      "Defaulting to user installation because normal site-packages is not writeable\n",
      "Requirement already satisfied: GitPython in ./.local/lib/python3.6/site-packages (3.1.18)\n",
      "Requirement already satisfied: gitdb<5,>=4.0.1 in ./.local/lib/python3.6/site-packages (from GitPython) (4.0.7)\n",
      "Requirement already satisfied: typing-extensions>=3.7.4.0 in ./.local/lib/python3.6/site-packages (from GitPython) (3.10.0.2)\n",
      "Requirement already satisfied: smmap<5,>=3.0.1 in ./.local/lib/python3.6/site-packages (from gitdb<5,>=4.0.1->GitPython) (4.0.0)\n",
      "\u001b[33mWARNING: You are using pip version 20.3.1; however, version 21.2.4 is available.\n",
      "You should consider upgrading via the '/usr/bin/python3 -m pip install --upgrade pip' command.\u001b[0m\n",
      "Note: you may need to restart the kernel to use updated packages.\n"
     ]
    }
   ],
   "source": [
    "pip install GitPython"
   ]
  },
  {
   "cell_type": "code",
   "execution_count": 5,
   "metadata": {},
   "outputs": [
    {
     "ename": "ImportError",
     "evalue": "Failed to initialize: Bad git executable.\nThe git executable must be specified in one of the following ways:\n    - be included in your $PATH\n    - be set via $GIT_PYTHON_GIT_EXECUTABLE\n    - explicitly set via git.refresh()\n\nAll git commands will error until this is rectified.\n\nThis initial warning can be silenced or aggravated in the future by setting the\n$GIT_PYTHON_REFRESH environment variable. Use one of the following values:\n    - quiet|q|silence|s|none|n|0: for no warning or exception\n    - warn|w|warning|1: for a printed warning\n    - error|e|raise|r|2: for a raised exception\n\nExample:\n    export GIT_PYTHON_REFRESH=quiet\n",
     "output_type": "error",
     "traceback": [
      "\u001b[0;31m---------------------------------------------------------------------------\u001b[0m",
      "\u001b[0;31mImportError\u001b[0m                               Traceback (most recent call last)",
      "\u001b[0;32m~/.local/lib/python3.6/site-packages/git/__init__.py\u001b[0m in \u001b[0;36m<module>\u001b[0;34m\u001b[0m\n\u001b[1;32m     86\u001b[0m \u001b[0;32mtry\u001b[0m\u001b[0;34m:\u001b[0m\u001b[0;34m\u001b[0m\u001b[0;34m\u001b[0m\u001b[0m\n\u001b[0;32m---> 87\u001b[0;31m     \u001b[0mrefresh\u001b[0m\u001b[0;34m(\u001b[0m\u001b[0;34m)\u001b[0m\u001b[0;34m\u001b[0m\u001b[0;34m\u001b[0m\u001b[0m\n\u001b[0m\u001b[1;32m     88\u001b[0m \u001b[0;32mexcept\u001b[0m \u001b[0mException\u001b[0m \u001b[0;32mas\u001b[0m \u001b[0mexc\u001b[0m\u001b[0;34m:\u001b[0m\u001b[0;34m\u001b[0m\u001b[0;34m\u001b[0m\u001b[0m\n",
      "\u001b[0;32m~/.local/lib/python3.6/site-packages/git/__init__.py\u001b[0m in \u001b[0;36mrefresh\u001b[0;34m(path)\u001b[0m\n\u001b[1;32m     75\u001b[0m \u001b[0;34m\u001b[0m\u001b[0m\n\u001b[0;32m---> 76\u001b[0;31m     \u001b[0;32mif\u001b[0m \u001b[0;32mnot\u001b[0m \u001b[0mGit\u001b[0m\u001b[0;34m.\u001b[0m\u001b[0mrefresh\u001b[0m\u001b[0;34m(\u001b[0m\u001b[0mpath\u001b[0m\u001b[0;34m=\u001b[0m\u001b[0mpath\u001b[0m\u001b[0;34m)\u001b[0m\u001b[0;34m:\u001b[0m\u001b[0;34m\u001b[0m\u001b[0;34m\u001b[0m\u001b[0m\n\u001b[0m\u001b[1;32m     77\u001b[0m         \u001b[0;32mreturn\u001b[0m\u001b[0;34m\u001b[0m\u001b[0;34m\u001b[0m\u001b[0m\n",
      "\u001b[0;32m~/.local/lib/python3.6/site-packages/git/cmd.py\u001b[0m in \u001b[0;36mrefresh\u001b[0;34m(cls, path)\u001b[0m\n\u001b[1;32m    305\u001b[0m                     \u001b[0;32melse\u001b[0m\u001b[0;34m:\u001b[0m\u001b[0;34m\u001b[0m\u001b[0;34m\u001b[0m\u001b[0m\n\u001b[0;32m--> 306\u001b[0;31m                         \u001b[0;32mraise\u001b[0m \u001b[0mImportError\u001b[0m\u001b[0;34m(\u001b[0m\u001b[0merr\u001b[0m\u001b[0;34m)\u001b[0m\u001b[0;34m\u001b[0m\u001b[0;34m\u001b[0m\u001b[0m\n\u001b[0m\u001b[1;32m    307\u001b[0m                 \u001b[0;32melse\u001b[0m\u001b[0;34m:\u001b[0m\u001b[0;34m\u001b[0m\u001b[0;34m\u001b[0m\u001b[0m\n",
      "\u001b[0;31mImportError\u001b[0m: Bad git executable.\nThe git executable must be specified in one of the following ways:\n    - be included in your $PATH\n    - be set via $GIT_PYTHON_GIT_EXECUTABLE\n    - explicitly set via git.refresh()\n\nAll git commands will error until this is rectified.\n\nThis initial warning can be silenced or aggravated in the future by setting the\n$GIT_PYTHON_REFRESH environment variable. Use one of the following values:\n    - quiet|q|silence|s|none|n|0: for no warning or exception\n    - warn|w|warning|1: for a printed warning\n    - error|e|raise|r|2: for a raised exception\n\nExample:\n    export GIT_PYTHON_REFRESH=quiet\n",
      "\nThe above exception was the direct cause of the following exception:\n",
      "\u001b[0;31mImportError\u001b[0m                               Traceback (most recent call last)",
      "\u001b[0;32m<ipython-input-5-5ef9e3921cd9>\u001b[0m in \u001b[0;36m<module>\u001b[0;34m\u001b[0m\n\u001b[0;32m----> 1\u001b[0;31m \u001b[0;32mfrom\u001b[0m \u001b[0mgit\u001b[0m \u001b[0;32mimport\u001b[0m \u001b[0mRepo\u001b[0m\u001b[0;34m\u001b[0m\u001b[0;34m\u001b[0m\u001b[0m\n\u001b[0m\u001b[1;32m      2\u001b[0m \u001b[0;34m\u001b[0m\u001b[0m\n\u001b[1;32m      3\u001b[0m \u001b[0;32mdef\u001b[0m \u001b[0mmain\u001b[0m\u001b[0;34m(\u001b[0m\u001b[0;34m)\u001b[0m\u001b[0;34m:\u001b[0m\u001b[0;34m\u001b[0m\u001b[0;34m\u001b[0m\u001b[0m\n\u001b[1;32m      4\u001b[0m     \u001b[0mnew_repo\u001b[0m \u001b[0;34m=\u001b[0m \u001b[0mRepo\u001b[0m\u001b[0;34m.\u001b[0m\u001b[0minit\u001b[0m\u001b[0;34m(\u001b[0m\u001b[0;34m'test_midterm_Obj4'\u001b[0m\u001b[0;34m)\u001b[0m\u001b[0;34m\u001b[0m\u001b[0;34m\u001b[0m\u001b[0m\n\u001b[1;32m      5\u001b[0m     \u001b[0mRepo\u001b[0m\u001b[0;34m.\u001b[0m\u001b[0mclone_from\u001b[0m\u001b[0;34m(\u001b[0m\u001b[0;34m'https://github.com/Ankit-Madnawat?tab=repositories'\u001b[0m\u001b[0;34m,\u001b[0m \u001b[0;34m'/home/netman'\u001b[0m\u001b[0;34m)\u001b[0m\u001b[0;34m\u001b[0m\u001b[0;34m\u001b[0m\u001b[0m\n",
      "\u001b[0;32m~/.local/lib/python3.6/site-packages/git/__init__.py\u001b[0m in \u001b[0;36m<module>\u001b[0;34m\u001b[0m\n\u001b[1;32m     87\u001b[0m     \u001b[0mrefresh\u001b[0m\u001b[0;34m(\u001b[0m\u001b[0;34m)\u001b[0m\u001b[0;34m\u001b[0m\u001b[0;34m\u001b[0m\u001b[0m\n\u001b[1;32m     88\u001b[0m \u001b[0;32mexcept\u001b[0m \u001b[0mException\u001b[0m \u001b[0;32mas\u001b[0m \u001b[0mexc\u001b[0m\u001b[0;34m:\u001b[0m\u001b[0;34m\u001b[0m\u001b[0;34m\u001b[0m\u001b[0m\n\u001b[0;32m---> 89\u001b[0;31m     \u001b[0;32mraise\u001b[0m \u001b[0mImportError\u001b[0m\u001b[0;34m(\u001b[0m\u001b[0;34m'Failed to initialize: {0}'\u001b[0m\u001b[0;34m.\u001b[0m\u001b[0mformat\u001b[0m\u001b[0;34m(\u001b[0m\u001b[0mexc\u001b[0m\u001b[0;34m)\u001b[0m\u001b[0;34m)\u001b[0m \u001b[0;32mfrom\u001b[0m \u001b[0mexc\u001b[0m\u001b[0;34m\u001b[0m\u001b[0;34m\u001b[0m\u001b[0m\n\u001b[0m\u001b[1;32m     90\u001b[0m \u001b[0;31m#################\u001b[0m\u001b[0;34m\u001b[0m\u001b[0;34m\u001b[0m\u001b[0;34m\u001b[0m\u001b[0m\n",
      "\u001b[0;31mImportError\u001b[0m: Failed to initialize: Bad git executable.\nThe git executable must be specified in one of the following ways:\n    - be included in your $PATH\n    - be set via $GIT_PYTHON_GIT_EXECUTABLE\n    - explicitly set via git.refresh()\n\nAll git commands will error until this is rectified.\n\nThis initial warning can be silenced or aggravated in the future by setting the\n$GIT_PYTHON_REFRESH environment variable. Use one of the following values:\n    - quiet|q|silence|s|none|n|0: for no warning or exception\n    - warn|w|warning|1: for a printed warning\n    - error|e|raise|r|2: for a raised exception\n\nExample:\n    export GIT_PYTHON_REFRESH=quiet\n"
     ]
    }
   ],
   "source": [
    "from git import Repo\n",
    "\n",
    "def main():\n",
    "    new_repo = Repo.init('test_midterm_Obj4')\n",
    "    Repo.clone_from('https://github.com/Ankit-Madnawat?tab=repositories', '/home/netman')\n",
    "\n",
    "if __name__ == \"__main__\":\n",
    "    main()"
   ]
  },
  {
   "cell_type": "code",
   "execution_count": null,
   "metadata": {},
   "outputs": [],
   "source": []
  }
 ],
 "metadata": {
  "kernelspec": {
   "display_name": "Python 3",
   "language": "python",
   "name": "python3"
  },
  "language_info": {
   "codemirror_mode": {
    "name": "ipython",
    "version": 3
   },
   "file_extension": ".py",
   "mimetype": "text/x-python",
   "name": "python",
   "nbconvert_exporter": "python",
   "pygments_lexer": "ipython3",
   "version": "3.6.9"
  }
 },
 "nbformat": 4,
 "nbformat_minor": 4
}
